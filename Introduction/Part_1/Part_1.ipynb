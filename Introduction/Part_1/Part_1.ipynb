{
 "cells": [
  {
   "cell_type": "markdown",
   "metadata": {},
   "source": [
    "# Part 1:\n",
    "## The Jupyter Notebook"
   ]
  },
  {
   "cell_type": "markdown",
   "metadata": {},
   "source": [
    "The Jupyter Notebook was developed as an interactive scripting development space. The supported languages originally were Julia, Python and R, which is where it got its name. The current running list of supported language kernels can be found [here](https://github.com/jupyter/jupyter/wiki/Jupyter-kernels)."
   ]
  },
  {
   "cell_type": "markdown",
   "metadata": {},
   "source": [
    "The basic idea is the notebook exists in a series of \"cells\" and each cell can be run in-sequence to test and develop your code. A notebook's scope is the notebook (read kernel) itself which means all global variables declared can be referenced throughout the notebook in any order."
   ]
  },
  {
   "cell_type": "markdown",
   "metadata": {},
   "source": [
    "There are two modes when interacting with Jupyter, command mode, and edit mode. \n",
    "\n",
    "`Clicking` -- On a cell will select it.\n",
    "\n",
    "`Enter` -- Moves into edit mode for the selected cell where you can type.\n",
    "\n",
    "`Esc` -- Moves you back out into command mode.\n",
    "\n",
    "`Shift + Enter` -- Will run the selected cell in either mode (note: `alt` or `ctrl` + `Enter` will run cells with different results, check the help dialog for info.)"
   ]
  },
  {
   "cell_type": "markdown",
   "metadata": {},
   "source": [
    "### Useful Commands:\n",
    "In command mode:\n",
    "* `h` Will show you the command mode help.\n",
    "* `a` Will create a cell above the selected cell.\n",
    "* `b` Will create a cell below the selected cell.\n",
    "* `x` Will delete a cell (technically it is \"cut\" but same results)."
   ]
  },
  {
   "cell_type": "markdown",
   "metadata": {},
   "source": [
    "#### A small script:"
   ]
  },
  {
   "cell_type": "code",
   "execution_count": 29,
   "metadata": {},
   "outputs": [
    {
     "name": "stdout",
     "output_type": "stream",
     "text": [
      "Hello World!\n",
      "Hello World!\n",
      "Hello World!\n",
      "Hello World!\n",
      "Hello World!\n",
      "Hello World!\n"
     ]
    }
   ],
   "source": [
    "import random\n",
    "\n",
    "for _ in range(0, random.randint(1,10)):\n",
    "    print(\"Hello World!\")"
   ]
  },
  {
   "cell_type": "markdown",
   "metadata": {},
   "source": [
    "Everything in cells are ran \"in-line\" and work very similar to autonomous scripts. A standard practice is to build and test with Jupyter Notebook and then deploy by scripting in a text based editor (creating a `.py` file) and running it from command line."
   ]
  },
  {
   "cell_type": "markdown",
   "metadata": {},
   "source": [
    "# A graph theory problem:"
   ]
  },
  {
   "cell_type": "markdown",
   "metadata": {},
   "source": [
    "#### Node distance:\n",
    "This is my algorithm and code used to assign penalty to differences in words based off of the keyboard layout of your computer. It uses graph theory to look at the shortest path between two characters on your keyboard.\n",
    "\n",
    "**key_graph** : A dictionary of keyboard characters, where the values are lists of the neighbors.\n",
    "\n",
    "**breadth_first** : A simple breadth first search algorithm to find the shortest path between characters in key_graph.\n",
    "\n",
    "**find_difference** : Breaks words/word segments up into single characters then passes them into the breadth first algorithm and then finds legth of the shortest path, that path is the character's difference 'score'. The scores are summed for the entire word and divided by the length of the word to give a word/segment difference score.\n",
    "\n",
    "**compare_words** : Compares the differences between the lengths of the two words, if they are different, passes them into the `find_differences` function by shortest word chunk of the longer word. eg: `compare_words(\"cat\", \"course\")` passes `(\"cat\", \"cou\")` ,  `(\"cat\", \"our\")`, `(\"cat\", \"urs\")`, and `(\"cat\", \"rse\")` into `find_differences`. Then finds the best scoring segment, then adds a penalty of $\\frac{|len(w1) - len(w2)|}{len(max([w1, w2]))}$ to the lowest score."
   ]
  },
  {
   "cell_type": "code",
   "execution_count": 2,
   "metadata": {
    "collapsed": true
   },
   "outputs": [],
   "source": [
    "key_graph = {\"q\" : [\"w\", \"a\"],\n",
    "             \"w\" : [\"q\", \"a\", \"s\", \"e\"],\n",
    "             \"e\" : [\"w\", \"s\", \"d\", \"r\"],\n",
    "             \"r\" : [\"e\", \"d\", \"f\", \"t\"],\n",
    "             \"t\" : [\"r\", \"f\", \"g\", \"y\"],\n",
    "             \"y\" : [\"t\", \"g\", \"h\", \"u\"],\n",
    "             \"u\" : [\"y\", \"h\", \"j\", \"i\"],\n",
    "             \"i\" : [\"u\", \"j\", \"k\", \"o\"],\n",
    "             \"o\" : [\"i\", \"k\", \"l\", \"p\"],\n",
    "             \"p\" : [\"o\", \"l\"],\n",
    "             \"a\" : [\"q\", \"w\", \"s\", \"z\"],\n",
    "             \"s\" : [\"a\", \"w\", \"e\", \"d\", \"x\", \"z\"],\n",
    "             \"d\" : [\"s\", \"e\", \"r\", \"f\", \"c\", \"x\"],\n",
    "             \"f\" : [\"d\", \"r\", \"t\", \"g\", \"v\", \"c\"],\n",
    "             \"g\" : [\"f\", \"t\", \"y\", \"h\", \"b\", \"v\"],\n",
    "             \"h\" : [\"g\", \"y\", \"u\", \"j\", \"n\", \"b\"],\n",
    "             \"j\" : [\"h\", \"u\", \"i\", \"k\", \"m\", \"n\"],\n",
    "             \"k\" : [\"j\", \"i\", \"o\", \"l\", \"m\"],\n",
    "             \"l\" : [\"k\", \"o\", \"p\"],\n",
    "             \"z\" : [\"a\", \"s\", \"x\"],\n",
    "             \"x\" : [\"z\", \"s\", \"d\", \"c\"],\n",
    "             \"c\" : [\"x\", \"d\", \"f\", \"v\"],\n",
    "             \"v\" : [\"c\", \"f\", \"g\", \"b\"],\n",
    "             \"b\" : [\"v\", \"g\", \"h\", \"n\"],\n",
    "             \"n\" : [\"b\", \"h\", \"j\", \"m\"],\n",
    "             \"m\" : [\"n\", \"j\", \"k\"]}"
   ]
  },
  {
   "cell_type": "code",
   "execution_count": 3,
   "metadata": {
    "collapsed": true
   },
   "outputs": [],
   "source": [
    "def breadth_first(graph,start, end):\n",
    "    \"\"\"\n",
    "    Breadth First Search Algorithm.\n",
    "    Returns shortest path.\n",
    "    -------------------------------------\n",
    "    Inputs:\n",
    "        graph : Dictionary of connecting nodes\n",
    "        start : Starting point on the graph\n",
    "        end   : Ending point on the graph\n",
    "    Outputs:\n",
    "        path  : List of shortest path\n",
    "    \"\"\"\n",
    "    queue = []\n",
    "    queue.append([start])\n",
    "    while queue:\n",
    "        path = queue.pop(0)\n",
    "        node = path[-1]\n",
    "        if node == end:\n",
    "            return path\n",
    "        for adjacent in graph.get(node, []):\n",
    "            new_path = list(path)\n",
    "            new_path.append(adjacent)\n",
    "            queue.append(new_path)"
   ]
  },
  {
   "cell_type": "code",
   "execution_count": 4,
   "metadata": {
    "collapsed": true
   },
   "outputs": [],
   "source": [
    "def find_difference(seg1, seg2):\n",
    "    \"\"\"\n",
    "    Utilizes graph distance to find the differences between similar length segments of words.\n",
    "    \"\"\"\n",
    "    letter_score = []\n",
    "    for c1,c2 in zip(seg1, seg2):\n",
    "        letter_score.append(float(len(breadth_first(key_graph, c1, c2)) - 1))\n",
    "    return sum(letter_score)/len(letter_score)"
   ]
  },
  {
   "cell_type": "code",
   "execution_count": 5,
   "metadata": {
    "collapsed": true
   },
   "outputs": [],
   "source": [
    "def compare_words(word1, word2):\n",
    "    \"\"\"\n",
    "    Main function to check keystroke differences between words.\n",
    "    \"\"\"\n",
    "    word1 = word1.lower()\n",
    "    word2 = word2.lower()\n",
    "    seg_scores = []\n",
    "    if len(word1) >= len(word2):\n",
    "        for i in range(0, len(word1) - len(word2) + 1):\n",
    "            seg_scores.append(find_difference(word1[i:i+len(word2)], word2))\n",
    "    else:\n",
    "        for i in range(0, len(word2) - len(word1) + 1):\n",
    "            seg_scores.append(find_difference(word2[i:i+len(word1)], word1))\n",
    "    return round(min(seg_scores) + abs(len(word1) - len(word2))/float(len(max([word1, word2]))),2)"
   ]
  },
  {
   "cell_type": "code",
   "execution_count": 10,
   "metadata": {},
   "outputs": [
    {
     "name": "stdout",
     "output_type": "stream",
     "text": [
      "The similarity between 'cat' and 'can' is: 1.0\n",
      "The similarity between 'cat' and 'car' is: 0.33\n",
      "The similarity between 'cat' and 'cap' is: 1.67\n",
      "The similarity between 'cat' and 'cart' is: 0.67\n",
      "The similarity between 'cat' and 'cats' is: 0.25\n",
      "The similarity between 'cat' and 'cat' is: 0.0\n"
     ]
    }
   ],
   "source": [
    "for word in [\"can\", \"car\", \"cap\", \"cart\", \"cats\", \"cat\"]:\n",
    "    print(\"The similarity between 'cat' and '{}' is: {}\".format(word, compare_words(\"cat\", word)))"
   ]
  },
  {
   "cell_type": "markdown",
   "metadata": {},
   "source": [
    "# Try your own words:"
   ]
  },
  {
   "cell_type": "code",
   "execution_count": 11,
   "metadata": {},
   "outputs": [
    {
     "data": {
      "text/plain": [
       "0.31"
      ]
     },
     "execution_count": 11,
     "metadata": {},
     "output_type": "execute_result"
    }
   ],
   "source": [
    "word1 = \"something\"\n",
    "word2 = \"somethingelse\"\n",
    "compare_words(word1, word2)"
   ]
  },
  {
   "cell_type": "code",
   "execution_count": 13,
   "metadata": {
    "collapsed": true
   },
   "outputs": [],
   "source": [
    "input?"
   ]
  },
  {
   "cell_type": "code",
   "execution_count": null,
   "metadata": {
    "collapsed": true
   },
   "outputs": [],
   "source": []
  }
 ],
 "metadata": {
  "kernelspec": {
   "display_name": "Python 3",
   "language": "python",
   "name": "python3"
  },
  "language_info": {
   "codemirror_mode": {
    "name": "ipython",
    "version": 3
   },
   "file_extension": ".py",
   "mimetype": "text/x-python",
   "name": "python",
   "nbconvert_exporter": "python",
   "pygments_lexer": "ipython3",
   "version": "3.6.3"
  }
 },
 "nbformat": 4,
 "nbformat_minor": 2
}
